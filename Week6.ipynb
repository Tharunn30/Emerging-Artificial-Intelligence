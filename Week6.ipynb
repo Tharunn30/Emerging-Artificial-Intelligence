{
  "nbformat": 4,
  "nbformat_minor": 0,
  "metadata": {
    "colab": {
      "provenance": []
    },
    "kernelspec": {
      "name": "python3",
      "display_name": "Python 3"
    },
    "language_info": {
      "name": "python"
    }
  },
  "cells": [
    {
      "cell_type": "code",
      "execution_count": null,
      "metadata": {
        "id": "vaullXFpr6Q6"
      },
      "outputs": [],
      "source": [
        "import pandas as pd\n",
        "from sklearn.model_selection import train_test_split\n",
        "from sklearn.linear_model import LinearRegression\n",
        "from sklearn.metrics import mean_squared_error\n",
        "\n",
        "# Sample Data (Replace with your actual house price data)\n",
        "data = {\n",
        "    'area': [1000, 1500, 1200, 1800, 2000, 1100, 1600, 1900, 1300, 1700],\n",
        "    'bedrooms': [2, 3, 2, 4, 4, 2, 3, 4, 3, 3],\n",
        "    'bathrooms': [1, 2, 1, 2, 3, 1, 2, 2, 2, 2],\n",
        "    'location': ['A', 'B', 'A', 'C', 'B', 'A', 'B', 'C', 'A', 'C'],  # Location Feature\n",
        "    'price': [250000, 350000, 300000, 450000, 500000, 275000, 380000, 470000, 320000, 420000],\n",
        "}\n",
        "df = pd.DataFrame(data)\n",
        "\n",
        "# Convert location to numerical using one-hot encoding\n",
        "df = pd.get_dummies(df, columns=['location'], drop_first=True)\n",
        "\n",
        "# Separate features (X) and target variable (y)\n",
        "X = df.drop('price', axis=1)\n",
        "y = df['price']\n",
        "\n",
        "# Split data into training and testing sets\n",
        "X_train, X_test, y_train, y_test = train_test_split(X, y, test_size=0.2, random_state=42)\n",
        "\n",
        "# Train a linear regression model\n",
        "model = LinearRegression()\n",
        "model.fit(X_train, y_train)\n",
        "\n",
        "# Make predictions on the test set\n",
        "y_pred = model.predict(X_test)\n",
        "\n",
        "# Evaluate the model\n",
        "mse = mean_squared_error(y_test, y_pred)\n",
        "print(f'Mean Squared Error: {mse}')\n",
        "\n",
        "\n",
        "# Predict the price of a house in a different area\n",
        "new_house_data = pd.DataFrame({\n",
        "    'area': [1400],\n",
        "    'bedrooms': [3],\n",
        "    'bathrooms': [2],\n",
        "    'location_B': [0],  # Assuming location is not 'A' or 'C' so both one hot encoded values are 0\n",
        "    'location_C': [1], # Assuming location is C so one hot encoded value is 1\n",
        "})\n",
        "\n",
        "predicted_price = model.predict(new_house_data)\n",
        "print(f'Predicted price for the new house: {predicted_price[0]}')"
      ]
    }
  ]
}